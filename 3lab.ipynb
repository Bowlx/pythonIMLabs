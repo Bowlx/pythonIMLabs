{
 "cells": [
  {
   "cell_type": "code",
   "execution_count": 67,
   "metadata": {
    "collapsed": true
   },
   "outputs": [],
   "source": [
    "import numpy as np\n",
    "from enum import Enum\n",
    "import matplotlib.pyplot as plt\n",
    "import random\n",
    "from scipy import stats\n",
    "import plotly.graph_objects as go"
   ]
  },
  {
   "cell_type": "code",
   "execution_count": 68,
   "outputs": [],
   "source": [
    "class SYSTEM_TYPE(Enum):\n",
    "    PRE_SELECTED =0\n",
    "    SHORTEST_QUEUE = 1\n",
    "    GENERAL_QUEUE = 2\n",
    "    DYNAMIC_SERVERS = 3\n",
    "\n",
    "\n",
    "arrival_xk = np.arange(4) + 1\n",
    "arrival_pk = (0.25, 0.4, 0.2, 0.15)\n",
    "custom_arrival = stats.rv_discrete(name='custom_arrival', values=(arrival_xk, arrival_pk))\n",
    "def get_service_time(server):\n",
    "    service_xk = np.arange(4) + 5\n",
    "    service_pk = (0.3, 0.28, 0.25, 0.17)\n",
    "    service = stats.rv_discrete(name='service_' + str(server), values=(service_xk, service_pk))\n",
    "    return service.rvs()\n",
    "\n",
    "class CustomerStat:\n",
    "    def __init__(self):\n",
    "        self.id = -1\n",
    "        self.arrival_time = -1\n",
    "        self.service_time = -1\n",
    "        self.inter_arrival_time = 0\n",
    "        self.service_begins = -1\n",
    "        self.waiting_time_in_queue = 0\n",
    "        self.service_ends = -1\n",
    "        self.time_in_system = -1\n",
    "        self.idle_time_of_server = 0\n",
    "        self.server = 'none'\n",
    "\n",
    "class EventsQueue:\n",
    "    def __init__(self, devs):\n",
    "        self.global_time = 0\n",
    "        self.events = []\n",
    "        self.devs = devs\n",
    "    @property\n",
    "    def size(self):\n",
    "        return len(self.events)\n",
    "\n",
    "    def add_event(self, new_event):\n",
    "        count = self.size\n",
    "        if count == 0 or new_event.e_time >= self.events[count-1].e_time:\n",
    "            self.events.append(new_event)\n",
    "            return 0\n",
    "\n",
    "        for i in range(0, count - 1):\n",
    "            if self.events[i].e_time <= new_event.e_time < self.events[i + 1].e_time:\n",
    "                self.events.insert(i + 1, new_event)\n",
    "                return 0\n",
    "\n",
    "    def process_next_event(self):\n",
    "        if self.size == 0:\n",
    "            return 0\n",
    "        self.events[0].execute(self.devs)\n",
    "        self.global_time = self.events[0].e_time\n",
    "        del self.events[0]\n",
    "\n",
    "servers_minimum = 3\n",
    "servers_maximum = 6\n",
    "class DEVS:\n",
    "    def __init__(self):\n",
    "        self.events_queue = EventsQueue(self)\n",
    "        self.GLOBAL_TIME = 0.0\n",
    "        self.customer_queue = []\n",
    "        self.stats = []\n",
    "        self.newId = 0\n",
    "        self.server_idle = {}\n",
    "        self.last_served_time = {}\n",
    "        self.servers_count = servers_minimum\n",
    "\n",
    "        for i in range(self.servers_count):\n",
    "            self.server_idle[i + 1] = True\n",
    "            self.last_served_time[i + 1] = 0.0\n",
    "\n",
    "    def process_next_event(self):\n",
    "        self.events_queue.process_next_event()\n",
    "        self.GLOBAL_TIME = self.events_queue.global_time\n",
    "\n",
    "    def get_preselected_server(self):\n",
    "        return random.randint(1, self.servers_count)\n",
    "\n",
    "    def get_shortest_queue_server(self):\n",
    "       no_queue_servers =  [server_name for server_name, server_is_free in self.server_idle.items() if server_is_free]\n",
    "       if no_queue_servers:\n",
    "         return no_queue_servers[0]\n",
    "       servers = [server_name for server_name, server_is_free in self.server_idle.items()]\n",
    "       # print(servers)\n",
    "       shortest = servers[random.randint(0, len(servers) - 1)]\n",
    "       events = []\n",
    "       for event in self.events_queue.events:\n",
    "           if isinstance(event, ServiceEvent):\n",
    "               events.append(event)\n",
    "       for server in servers:\n",
    "           if len(list(filter(lambda x: x.server == server,self.customer_queue))) < len(list(filter(lambda x: x.server == shortest,self.customer_queue))):\n",
    "               shortest = server\n",
    "       return shortest\n",
    "\n",
    "\n",
    "    def get_next_server(self):\n",
    "        servers = [server_name for server_name, server_is_free in self.server_idle.items() if server_is_free]\n",
    "        if not servers:\n",
    "            return None\n",
    "        random_free_server = servers[random.randint(0, len(servers) - 1)]\n",
    "        return random_free_server\n",
    "\n",
    "    def get_dynamic_server(self):\n",
    "        # print(len(self.customer_queue))\n",
    "        if len(self.customer_queue) >2 and self.servers_count < servers_maximum:\n",
    "            self.add_server()\n",
    "        if len(self.customer_queue) < 1 and self.servers_count > servers_minimum:\n",
    "            self.remove_server()\n",
    "        return self.get_next_server()\n",
    "\n",
    "    def add_server(self):\n",
    "        self.servers_count +=1\n",
    "        self.server_idle[self.servers_count] = True\n",
    "        self.last_served_time[self.servers_count] = 0.0\n",
    "        # print(\"added_server {0:.2f}\".format(self.servers_count))\n",
    "\n",
    "    def remove_server(self):\n",
    "        if self.server_idle[self.servers_count]:\n",
    "           self.server_idle.pop(self.servers_count)\n",
    "           self.last_served_time.pop(self.servers_count)\n",
    "           self.servers_count-=1\n",
    "        # print(\"removed_server {0:.2f}\".format(self.servers_count))\n",
    "\n",
    "\n",
    "\n",
    "class ServiceEvent:\n",
    "    def __init__(self, server):\n",
    "        self.e_time = 0.0\n",
    "        self.id = 0  # user Id\n",
    "        self.server = server  # server Name\n",
    "        self.service_time = 0\n",
    "\n",
    "    def execute(self, devs):\n",
    "        ind = [i for i, val in enumerate(devs.stats) if val.id == self.id][0]\n",
    "        devs.stats[ind].service_ends = self.e_time\n",
    "        devs.stats[ind].time_in_system = devs.stats[ind].service_ends - devs.stats[ind].arrival_time\n",
    "        devs.stats[ind].waiting_time_in_queue = devs.stats[ind].service_begins - devs.stats[ind].arrival_time\n",
    "        # devs.stats[ind].idle_time_of_server = devs.stats[ind].service_begins - devs.last_served_time[devs.stats[ind].server]\n",
    "        queue_list = list(filter(lambda x: x.server == self.server or x.server ==\"none\",devs.customer_queue))\n",
    "        if len(queue_list) > 0:\n",
    "            index = devs.customer_queue.index(queue_list[0])\n",
    "            qid = devs.customer_queue.pop(index)\n",
    "            qind = [i for i, val in enumerate(devs.stats) if val.id == qid.id][0]\n",
    "            service = ServiceEvent(self.server)\n",
    "            service_time = get_service_time(self.server)\n",
    "            service.e_time = self.e_time + service_time\n",
    "            service.id = qid.id\n",
    "            devs.stats[qind].server = self.server\n",
    "            devs.stats[qind].service_begins = self.e_time\n",
    "            devs.stats[qind].service_time = service_time\n",
    "            devs.events_queue.add_event(service)\n",
    "        else:\n",
    "            devs.server_idle[self.server] = True\n",
    "        devs.last_served_time[self.server] = self.e_time\n",
    "\n",
    "\n",
    "class ArrivalEvent:\n",
    "    def __init__(self, m_a, exec_type):\n",
    "        self.e_time = 0.0\n",
    "        self.max_agents = m_a\n",
    "        self.type = exec_type\n",
    "    def execute(self, devs):\n",
    "        customer = CustomerStat()\n",
    "        customer.id = devs.newId\n",
    "        customer.arrival_time = self.e_time\n",
    "        if len(devs.stats) > 0:\n",
    "            customer.inter_arrival_time = customer.arrival_time - devs.stats[-1].arrival_time\n",
    "\n",
    "        server = None\n",
    "        if self.type == SYSTEM_TYPE.PRE_SELECTED:\n",
    "            server = devs.get_preselected_server()\n",
    "        if self.type == SYSTEM_TYPE.SHORTEST_QUEUE:\n",
    "            server = devs.get_shortest_queue_server()\n",
    "        if self.type == SYSTEM_TYPE.GENERAL_QUEUE:\n",
    "            server = devs.get_next_server()\n",
    "        if self.type == SYSTEM_TYPE.DYNAMIC_SERVERS:\n",
    "            server = devs.get_dynamic_server()\n",
    "\n",
    "        if devs.newId < self.max_agents - 1:\n",
    "            next_arrival = ArrivalEvent(self.max_agents, self.type)\n",
    "            next_arrival.e_time = self.e_time + custom_arrival.rvs()\n",
    "            devs.events_queue.add_event(next_arrival)\n",
    "        if server:\n",
    "            customer.server = server\n",
    "        if server and devs.server_idle[server]:\n",
    "            devs.server_idle[server] = False\n",
    "            service = ServiceEvent(server)\n",
    "            service_time = get_service_time(server)\n",
    "\n",
    "            customer.service_time = service_time\n",
    "            customer.service_begins = self.e_time\n",
    "            service.e_time = self.e_time + service_time\n",
    "            service.id = customer.id\n",
    "            customer.server = server\n",
    "            devs.events_queue.add_event(service)\n",
    "        else:\n",
    "            devs.customer_queue.append(customer)\n",
    "        devs.newId = devs.newId + 1\n",
    "        devs.stats.append(customer)"
   ],
   "metadata": {
    "collapsed": false,
    "pycharm": {
     "name": "#%%\n"
    }
   }
  },
  {
   "cell_type": "code",
   "execution_count": 69,
   "outputs": [
    {
     "name": "stdout",
     "output_type": "stream",
     "text": [
      "0\n",
      "\n",
      "PRE_SELECTED: \n",
      "\n",
      "Average waiting time: 33.98\n",
      "Probability that a customer has to wait: 0.91\n",
      "Average time between arrivals: 2.26\n",
      "Average service time: 6.29\n",
      "Average waiting time for those who wait: 37.43\n",
      "Average time a customer spends in the system: 40.27\n",
      "\n",
      "Average waiting time: 27.64\n",
      "Probability that a customer has to wait: 0.91\n",
      "Average time between arrivals: 2.27\n",
      "Average service time: 6.30\n",
      "Average waiting time for those who wait: 30.46\n",
      "Average time a customer spends in the system: 33.94\n",
      "\n",
      "Average waiting time: 37.78\n",
      "Probability that a customer has to wait: 0.92\n",
      "Average time between arrivals: 2.24\n",
      "Average service time: 6.30\n",
      "Average waiting time for those who wait: 41.21\n",
      "Average time a customer spends in the system: 44.08\n",
      "\n",
      "1\n",
      "\n",
      "SHORTEST_QUEUE: \n",
      "\n",
      "Average waiting time: 3.26\n",
      "Probability that a customer has to wait: 0.62\n",
      "Average time between arrivals: 2.26\n",
      "Average service time: 6.30\n",
      "Average waiting time for those who wait: 5.23\n",
      "Average time a customer spends in the system: 9.56\n",
      "\n",
      "Average waiting time: 3.51\n",
      "Probability that a customer has to wait: 0.64\n",
      "Average time between arrivals: 2.25\n",
      "Average service time: 6.28\n",
      "Average waiting time for those who wait: 5.50\n",
      "Average time a customer spends in the system: 9.79\n",
      "\n",
      "Average waiting time: 3.49\n",
      "Probability that a customer has to wait: 0.64\n",
      "Average time between arrivals: 2.24\n",
      "Average service time: 6.28\n",
      "Average waiting time for those who wait: 5.44\n",
      "Average time a customer spends in the system: 9.76\n",
      "\n",
      "2\n",
      "\n",
      "GENERAL_QUEUE: \n",
      "\n",
      "Average waiting time: 3.00\n",
      "Probability that a customer has to wait: 0.66\n",
      "Average time between arrivals: 2.25\n",
      "Average service time: 6.30\n",
      "Average waiting time for those who wait: 4.56\n",
      "Average time a customer spends in the system: 9.31\n",
      "\n",
      "Average waiting time: 2.35\n",
      "Probability that a customer has to wait: 0.64\n",
      "Average time between arrivals: 2.26\n",
      "Average service time: 6.33\n",
      "Average waiting time for those who wait: 3.68\n",
      "Average time a customer spends in the system: 8.68\n",
      "\n",
      "Average waiting time: 3.16\n",
      "Probability that a customer has to wait: 0.65\n",
      "Average time between arrivals: 2.25\n",
      "Average service time: 6.30\n",
      "Average waiting time for those who wait: 4.88\n",
      "Average time a customer spends in the system: 9.46\n",
      "\n",
      "3\n",
      "\n",
      "DYNAMIC_SERVERS: \n",
      "\n",
      "Average waiting time: 1.30\n",
      "Probability that a customer has to wait: 0.52\n",
      "Average time between arrivals: 2.26\n",
      "Average service time: 6.28\n",
      "Average waiting time for those who wait: 2.51\n",
      "Average time a customer spends in the system: 7.59\n",
      "\n",
      "Average waiting time: 1.37\n",
      "Probability that a customer has to wait: 0.54\n",
      "Average time between arrivals: 2.25\n",
      "Average service time: 6.30\n",
      "Average waiting time for those who wait: 2.53\n",
      "Average time a customer spends in the system: 7.66\n",
      "\n",
      "Average waiting time: 1.35\n",
      "Probability that a customer has to wait: 0.53\n",
      "Average time between arrivals: 2.25\n",
      "Average service time: 6.29\n",
      "Average waiting time for those who wait: 2.55\n",
      "Average time a customer spends in the system: 7.64\n",
      "\n"
     ]
    },
    {
     "data": {
      "application/vnd.plotly.v1+json": {
       "config": {
        "plotlyServerURL": "https://plot.ly"
       },
       "data": [
        {
         "cells": {
          "values": [
           [
            "Average waiting time",
            "Probability that a customer has to wait",
            "Average waiting time for those who wait",
            "Average time a customer spends in the system"
           ],
           [
            "33.13",
            "0.91",
            "36.37",
            "39.43"
           ],
           [
            "3.42",
            "0.63",
            "5.39",
            "9.71"
           ],
           [
            "2.84",
            "0.65",
            "4.37",
            "9.15"
           ],
           [
            "1.34",
            "0.53",
            "2.53",
            "7.63"
           ]
          ]
         },
         "header": {
          "values": [
           "",
           "PRE_SELECTED",
           "SHORTEST_QUEUE",
           "GENERAL_QUEUE",
           "DYNAMIC_SERVERS"
          ]
         },
         "type": "table"
        }
       ],
       "layout": {
        "height": 800,
        "template": {
         "data": {
          "bar": [
           {
            "error_x": {
             "color": "#2a3f5f"
            },
            "error_y": {
             "color": "#2a3f5f"
            },
            "marker": {
             "line": {
              "color": "#E5ECF6",
              "width": 0.5
             }
            },
            "type": "bar"
           }
          ],
          "barpolar": [
           {
            "marker": {
             "line": {
              "color": "#E5ECF6",
              "width": 0.5
             }
            },
            "type": "barpolar"
           }
          ],
          "carpet": [
           {
            "aaxis": {
             "endlinecolor": "#2a3f5f",
             "gridcolor": "white",
             "linecolor": "white",
             "minorgridcolor": "white",
             "startlinecolor": "#2a3f5f"
            },
            "baxis": {
             "endlinecolor": "#2a3f5f",
             "gridcolor": "white",
             "linecolor": "white",
             "minorgridcolor": "white",
             "startlinecolor": "#2a3f5f"
            },
            "type": "carpet"
           }
          ],
          "choropleth": [
           {
            "colorbar": {
             "outlinewidth": 0,
             "ticks": ""
            },
            "type": "choropleth"
           }
          ],
          "contour": [
           {
            "colorbar": {
             "outlinewidth": 0,
             "ticks": ""
            },
            "colorscale": [
             [
              0.0,
              "#0d0887"
             ],
             [
              0.1111111111111111,
              "#46039f"
             ],
             [
              0.2222222222222222,
              "#7201a8"
             ],
             [
              0.3333333333333333,
              "#9c179e"
             ],
             [
              0.4444444444444444,
              "#bd3786"
             ],
             [
              0.5555555555555556,
              "#d8576b"
             ],
             [
              0.6666666666666666,
              "#ed7953"
             ],
             [
              0.7777777777777778,
              "#fb9f3a"
             ],
             [
              0.8888888888888888,
              "#fdca26"
             ],
             [
              1.0,
              "#f0f921"
             ]
            ],
            "type": "contour"
           }
          ],
          "contourcarpet": [
           {
            "colorbar": {
             "outlinewidth": 0,
             "ticks": ""
            },
            "type": "contourcarpet"
           }
          ],
          "heatmap": [
           {
            "colorbar": {
             "outlinewidth": 0,
             "ticks": ""
            },
            "colorscale": [
             [
              0.0,
              "#0d0887"
             ],
             [
              0.1111111111111111,
              "#46039f"
             ],
             [
              0.2222222222222222,
              "#7201a8"
             ],
             [
              0.3333333333333333,
              "#9c179e"
             ],
             [
              0.4444444444444444,
              "#bd3786"
             ],
             [
              0.5555555555555556,
              "#d8576b"
             ],
             [
              0.6666666666666666,
              "#ed7953"
             ],
             [
              0.7777777777777778,
              "#fb9f3a"
             ],
             [
              0.8888888888888888,
              "#fdca26"
             ],
             [
              1.0,
              "#f0f921"
             ]
            ],
            "type": "heatmap"
           }
          ],
          "heatmapgl": [
           {
            "colorbar": {
             "outlinewidth": 0,
             "ticks": ""
            },
            "colorscale": [
             [
              0.0,
              "#0d0887"
             ],
             [
              0.1111111111111111,
              "#46039f"
             ],
             [
              0.2222222222222222,
              "#7201a8"
             ],
             [
              0.3333333333333333,
              "#9c179e"
             ],
             [
              0.4444444444444444,
              "#bd3786"
             ],
             [
              0.5555555555555556,
              "#d8576b"
             ],
             [
              0.6666666666666666,
              "#ed7953"
             ],
             [
              0.7777777777777778,
              "#fb9f3a"
             ],
             [
              0.8888888888888888,
              "#fdca26"
             ],
             [
              1.0,
              "#f0f921"
             ]
            ],
            "type": "heatmapgl"
           }
          ],
          "histogram": [
           {
            "marker": {
             "colorbar": {
              "outlinewidth": 0,
              "ticks": ""
             }
            },
            "type": "histogram"
           }
          ],
          "histogram2d": [
           {
            "colorbar": {
             "outlinewidth": 0,
             "ticks": ""
            },
            "colorscale": [
             [
              0.0,
              "#0d0887"
             ],
             [
              0.1111111111111111,
              "#46039f"
             ],
             [
              0.2222222222222222,
              "#7201a8"
             ],
             [
              0.3333333333333333,
              "#9c179e"
             ],
             [
              0.4444444444444444,
              "#bd3786"
             ],
             [
              0.5555555555555556,
              "#d8576b"
             ],
             [
              0.6666666666666666,
              "#ed7953"
             ],
             [
              0.7777777777777778,
              "#fb9f3a"
             ],
             [
              0.8888888888888888,
              "#fdca26"
             ],
             [
              1.0,
              "#f0f921"
             ]
            ],
            "type": "histogram2d"
           }
          ],
          "histogram2dcontour": [
           {
            "colorbar": {
             "outlinewidth": 0,
             "ticks": ""
            },
            "colorscale": [
             [
              0.0,
              "#0d0887"
             ],
             [
              0.1111111111111111,
              "#46039f"
             ],
             [
              0.2222222222222222,
              "#7201a8"
             ],
             [
              0.3333333333333333,
              "#9c179e"
             ],
             [
              0.4444444444444444,
              "#bd3786"
             ],
             [
              0.5555555555555556,
              "#d8576b"
             ],
             [
              0.6666666666666666,
              "#ed7953"
             ],
             [
              0.7777777777777778,
              "#fb9f3a"
             ],
             [
              0.8888888888888888,
              "#fdca26"
             ],
             [
              1.0,
              "#f0f921"
             ]
            ],
            "type": "histogram2dcontour"
           }
          ],
          "mesh3d": [
           {
            "colorbar": {
             "outlinewidth": 0,
             "ticks": ""
            },
            "type": "mesh3d"
           }
          ],
          "parcoords": [
           {
            "line": {
             "colorbar": {
              "outlinewidth": 0,
              "ticks": ""
             }
            },
            "type": "parcoords"
           }
          ],
          "pie": [
           {
            "automargin": true,
            "type": "pie"
           }
          ],
          "scatter": [
           {
            "marker": {
             "colorbar": {
              "outlinewidth": 0,
              "ticks": ""
             }
            },
            "type": "scatter"
           }
          ],
          "scatter3d": [
           {
            "line": {
             "colorbar": {
              "outlinewidth": 0,
              "ticks": ""
             }
            },
            "marker": {
             "colorbar": {
              "outlinewidth": 0,
              "ticks": ""
             }
            },
            "type": "scatter3d"
           }
          ],
          "scattercarpet": [
           {
            "marker": {
             "colorbar": {
              "outlinewidth": 0,
              "ticks": ""
             }
            },
            "type": "scattercarpet"
           }
          ],
          "scattergeo": [
           {
            "marker": {
             "colorbar": {
              "outlinewidth": 0,
              "ticks": ""
             }
            },
            "type": "scattergeo"
           }
          ],
          "scattergl": [
           {
            "marker": {
             "colorbar": {
              "outlinewidth": 0,
              "ticks": ""
             }
            },
            "type": "scattergl"
           }
          ],
          "scattermapbox": [
           {
            "marker": {
             "colorbar": {
              "outlinewidth": 0,
              "ticks": ""
             }
            },
            "type": "scattermapbox"
           }
          ],
          "scatterpolar": [
           {
            "marker": {
             "colorbar": {
              "outlinewidth": 0,
              "ticks": ""
             }
            },
            "type": "scatterpolar"
           }
          ],
          "scatterpolargl": [
           {
            "marker": {
             "colorbar": {
              "outlinewidth": 0,
              "ticks": ""
             }
            },
            "type": "scatterpolargl"
           }
          ],
          "scatterternary": [
           {
            "marker": {
             "colorbar": {
              "outlinewidth": 0,
              "ticks": ""
             }
            },
            "type": "scatterternary"
           }
          ],
          "surface": [
           {
            "colorbar": {
             "outlinewidth": 0,
             "ticks": ""
            },
            "colorscale": [
             [
              0.0,
              "#0d0887"
             ],
             [
              0.1111111111111111,
              "#46039f"
             ],
             [
              0.2222222222222222,
              "#7201a8"
             ],
             [
              0.3333333333333333,
              "#9c179e"
             ],
             [
              0.4444444444444444,
              "#bd3786"
             ],
             [
              0.5555555555555556,
              "#d8576b"
             ],
             [
              0.6666666666666666,
              "#ed7953"
             ],
             [
              0.7777777777777778,
              "#fb9f3a"
             ],
             [
              0.8888888888888888,
              "#fdca26"
             ],
             [
              1.0,
              "#f0f921"
             ]
            ],
            "type": "surface"
           }
          ],
          "table": [
           {
            "cells": {
             "fill": {
              "color": "#EBF0F8"
             },
             "line": {
              "color": "white"
             }
            },
            "header": {
             "fill": {
              "color": "#C8D4E3"
             },
             "line": {
              "color": "white"
             }
            },
            "type": "table"
           }
          ]
         },
         "layout": {
          "annotationdefaults": {
           "arrowcolor": "#2a3f5f",
           "arrowhead": 0,
           "arrowwidth": 1
          },
          "coloraxis": {
           "colorbar": {
            "outlinewidth": 0,
            "ticks": ""
           }
          },
          "colorscale": {
           "diverging": [
            [
             0,
             "#8e0152"
            ],
            [
             0.1,
             "#c51b7d"
            ],
            [
             0.2,
             "#de77ae"
            ],
            [
             0.3,
             "#f1b6da"
            ],
            [
             0.4,
             "#fde0ef"
            ],
            [
             0.5,
             "#f7f7f7"
            ],
            [
             0.6,
             "#e6f5d0"
            ],
            [
             0.7,
             "#b8e186"
            ],
            [
             0.8,
             "#7fbc41"
            ],
            [
             0.9,
             "#4d9221"
            ],
            [
             1,
             "#276419"
            ]
           ],
           "sequential": [
            [
             0.0,
             "#0d0887"
            ],
            [
             0.1111111111111111,
             "#46039f"
            ],
            [
             0.2222222222222222,
             "#7201a8"
            ],
            [
             0.3333333333333333,
             "#9c179e"
            ],
            [
             0.4444444444444444,
             "#bd3786"
            ],
            [
             0.5555555555555556,
             "#d8576b"
            ],
            [
             0.6666666666666666,
             "#ed7953"
            ],
            [
             0.7777777777777778,
             "#fb9f3a"
            ],
            [
             0.8888888888888888,
             "#fdca26"
            ],
            [
             1.0,
             "#f0f921"
            ]
           ],
           "sequentialminus": [
            [
             0.0,
             "#0d0887"
            ],
            [
             0.1111111111111111,
             "#46039f"
            ],
            [
             0.2222222222222222,
             "#7201a8"
            ],
            [
             0.3333333333333333,
             "#9c179e"
            ],
            [
             0.4444444444444444,
             "#bd3786"
            ],
            [
             0.5555555555555556,
             "#d8576b"
            ],
            [
             0.6666666666666666,
             "#ed7953"
            ],
            [
             0.7777777777777778,
             "#fb9f3a"
            ],
            [
             0.8888888888888888,
             "#fdca26"
            ],
            [
             1.0,
             "#f0f921"
            ]
           ]
          },
          "colorway": [
           "#636efa",
           "#EF553B",
           "#00cc96",
           "#ab63fa",
           "#FFA15A",
           "#19d3f3",
           "#FF6692",
           "#B6E880",
           "#FF97FF",
           "#FECB52"
          ],
          "font": {
           "color": "#2a3f5f"
          },
          "geo": {
           "bgcolor": "white",
           "lakecolor": "white",
           "landcolor": "#E5ECF6",
           "showlakes": true,
           "showland": true,
           "subunitcolor": "white"
          },
          "hoverlabel": {
           "align": "left"
          },
          "hovermode": "closest",
          "mapbox": {
           "style": "light"
          },
          "paper_bgcolor": "white",
          "plot_bgcolor": "#E5ECF6",
          "polar": {
           "angularaxis": {
            "gridcolor": "white",
            "linecolor": "white",
            "ticks": ""
           },
           "bgcolor": "#E5ECF6",
           "radialaxis": {
            "gridcolor": "white",
            "linecolor": "white",
            "ticks": ""
           }
          },
          "scene": {
           "xaxis": {
            "backgroundcolor": "#E5ECF6",
            "gridcolor": "white",
            "gridwidth": 2,
            "linecolor": "white",
            "showbackground": true,
            "ticks": "",
            "zerolinecolor": "white"
           },
           "yaxis": {
            "backgroundcolor": "#E5ECF6",
            "gridcolor": "white",
            "gridwidth": 2,
            "linecolor": "white",
            "showbackground": true,
            "ticks": "",
            "zerolinecolor": "white"
           },
           "zaxis": {
            "backgroundcolor": "#E5ECF6",
            "gridcolor": "white",
            "gridwidth": 2,
            "linecolor": "white",
            "showbackground": true,
            "ticks": "",
            "zerolinecolor": "white"
           }
          },
          "shapedefaults": {
           "line": {
            "color": "#2a3f5f"
           }
          },
          "ternary": {
           "aaxis": {
            "gridcolor": "white",
            "linecolor": "white",
            "ticks": ""
           },
           "baxis": {
            "gridcolor": "white",
            "linecolor": "white",
            "ticks": ""
           },
           "bgcolor": "#E5ECF6",
           "caxis": {
            "gridcolor": "white",
            "linecolor": "white",
            "ticks": ""
           }
          },
          "title": {
           "x": 0.05
          },
          "xaxis": {
           "automargin": true,
           "gridcolor": "white",
           "linecolor": "white",
           "ticks": "",
           "title": {
            "standoff": 15
           },
           "zerolinecolor": "white",
           "zerolinewidth": 2
          },
          "yaxis": {
           "automargin": true,
           "gridcolor": "white",
           "linecolor": "white",
           "ticks": "",
           "title": {
            "standoff": 15
           },
           "zerolinecolor": "white",
           "zerolinewidth": 2
          }
         }
        },
        "width": 800
       }
      },
      "text/html": "<div>                            <div id=\"56b67c0f-cda5-4744-9db8-36c28c631eef\" class=\"plotly-graph-div\" style=\"height:800px; width:800px;\"></div>            <script type=\"text/javascript\">                require([\"plotly\"], function(Plotly) {                    window.PLOTLYENV=window.PLOTLYENV || {};                                    if (document.getElementById(\"56b67c0f-cda5-4744-9db8-36c28c631eef\")) {                    Plotly.newPlot(                        \"56b67c0f-cda5-4744-9db8-36c28c631eef\",                        [{\"cells\": {\"values\": [[\"Average waiting time\", \"Probability that a customer has to wait\", \"Average waiting time for those who wait\", \"Average time a customer spends in the system\"], [\"33.13\", \"0.91\", \"36.37\", \"39.43\"], [\"3.42\", \"0.63\", \"5.39\", \"9.71\"], [\"2.84\", \"0.65\", \"4.37\", \"9.15\"], [\"1.34\", \"0.53\", \"2.53\", \"7.63\"]]}, \"header\": {\"values\": [\"\", \"PRE_SELECTED\", \"SHORTEST_QUEUE\", \"GENERAL_QUEUE\", \"DYNAMIC_SERVERS\"]}, \"type\": \"table\"}],                        {\"height\": 800, \"template\": {\"data\": {\"bar\": [{\"error_x\": {\"color\": \"#2a3f5f\"}, \"error_y\": {\"color\": \"#2a3f5f\"}, \"marker\": {\"line\": {\"color\": \"#E5ECF6\", \"width\": 0.5}}, \"type\": \"bar\"}], \"barpolar\": [{\"marker\": {\"line\": {\"color\": \"#E5ECF6\", \"width\": 0.5}}, \"type\": \"barpolar\"}], \"carpet\": [{\"aaxis\": {\"endlinecolor\": \"#2a3f5f\", \"gridcolor\": \"white\", \"linecolor\": \"white\", \"minorgridcolor\": \"white\", \"startlinecolor\": \"#2a3f5f\"}, \"baxis\": {\"endlinecolor\": \"#2a3f5f\", \"gridcolor\": \"white\", \"linecolor\": \"white\", \"minorgridcolor\": \"white\", \"startlinecolor\": \"#2a3f5f\"}, \"type\": \"carpet\"}], \"choropleth\": [{\"colorbar\": {\"outlinewidth\": 0, \"ticks\": \"\"}, \"type\": \"choropleth\"}], \"contour\": [{\"colorbar\": {\"outlinewidth\": 0, \"ticks\": \"\"}, \"colorscale\": [[0.0, \"#0d0887\"], [0.1111111111111111, \"#46039f\"], [0.2222222222222222, \"#7201a8\"], [0.3333333333333333, \"#9c179e\"], [0.4444444444444444, \"#bd3786\"], [0.5555555555555556, \"#d8576b\"], [0.6666666666666666, \"#ed7953\"], [0.7777777777777778, \"#fb9f3a\"], [0.8888888888888888, \"#fdca26\"], [1.0, \"#f0f921\"]], \"type\": \"contour\"}], \"contourcarpet\": [{\"colorbar\": {\"outlinewidth\": 0, \"ticks\": \"\"}, \"type\": \"contourcarpet\"}], \"heatmap\": [{\"colorbar\": {\"outlinewidth\": 0, \"ticks\": \"\"}, \"colorscale\": [[0.0, \"#0d0887\"], [0.1111111111111111, \"#46039f\"], [0.2222222222222222, \"#7201a8\"], [0.3333333333333333, \"#9c179e\"], [0.4444444444444444, \"#bd3786\"], [0.5555555555555556, \"#d8576b\"], [0.6666666666666666, \"#ed7953\"], [0.7777777777777778, \"#fb9f3a\"], [0.8888888888888888, \"#fdca26\"], [1.0, \"#f0f921\"]], \"type\": \"heatmap\"}], \"heatmapgl\": [{\"colorbar\": {\"outlinewidth\": 0, \"ticks\": \"\"}, \"colorscale\": [[0.0, \"#0d0887\"], [0.1111111111111111, \"#46039f\"], [0.2222222222222222, \"#7201a8\"], [0.3333333333333333, \"#9c179e\"], [0.4444444444444444, \"#bd3786\"], [0.5555555555555556, \"#d8576b\"], [0.6666666666666666, \"#ed7953\"], [0.7777777777777778, \"#fb9f3a\"], [0.8888888888888888, \"#fdca26\"], [1.0, \"#f0f921\"]], \"type\": \"heatmapgl\"}], \"histogram\": [{\"marker\": {\"colorbar\": {\"outlinewidth\": 0, \"ticks\": \"\"}}, \"type\": \"histogram\"}], \"histogram2d\": [{\"colorbar\": {\"outlinewidth\": 0, \"ticks\": \"\"}, \"colorscale\": [[0.0, \"#0d0887\"], [0.1111111111111111, \"#46039f\"], [0.2222222222222222, \"#7201a8\"], [0.3333333333333333, \"#9c179e\"], [0.4444444444444444, \"#bd3786\"], [0.5555555555555556, \"#d8576b\"], [0.6666666666666666, \"#ed7953\"], [0.7777777777777778, \"#fb9f3a\"], [0.8888888888888888, \"#fdca26\"], [1.0, \"#f0f921\"]], \"type\": \"histogram2d\"}], \"histogram2dcontour\": [{\"colorbar\": {\"outlinewidth\": 0, \"ticks\": \"\"}, \"colorscale\": [[0.0, \"#0d0887\"], [0.1111111111111111, \"#46039f\"], [0.2222222222222222, \"#7201a8\"], [0.3333333333333333, \"#9c179e\"], [0.4444444444444444, \"#bd3786\"], [0.5555555555555556, \"#d8576b\"], [0.6666666666666666, \"#ed7953\"], [0.7777777777777778, \"#fb9f3a\"], [0.8888888888888888, \"#fdca26\"], [1.0, \"#f0f921\"]], \"type\": \"histogram2dcontour\"}], \"mesh3d\": [{\"colorbar\": {\"outlinewidth\": 0, \"ticks\": \"\"}, \"type\": \"mesh3d\"}], \"parcoords\": [{\"line\": {\"colorbar\": {\"outlinewidth\": 0, \"ticks\": \"\"}}, \"type\": \"parcoords\"}], \"pie\": [{\"automargin\": true, \"type\": \"pie\"}], \"scatter\": [{\"marker\": {\"colorbar\": {\"outlinewidth\": 0, \"ticks\": \"\"}}, \"type\": \"scatter\"}], \"scatter3d\": [{\"line\": {\"colorbar\": {\"outlinewidth\": 0, \"ticks\": \"\"}}, \"marker\": {\"colorbar\": {\"outlinewidth\": 0, \"ticks\": \"\"}}, \"type\": \"scatter3d\"}], \"scattercarpet\": [{\"marker\": {\"colorbar\": {\"outlinewidth\": 0, \"ticks\": \"\"}}, \"type\": \"scattercarpet\"}], \"scattergeo\": [{\"marker\": {\"colorbar\": {\"outlinewidth\": 0, \"ticks\": \"\"}}, \"type\": \"scattergeo\"}], \"scattergl\": [{\"marker\": {\"colorbar\": {\"outlinewidth\": 0, \"ticks\": \"\"}}, \"type\": \"scattergl\"}], \"scattermapbox\": [{\"marker\": {\"colorbar\": {\"outlinewidth\": 0, \"ticks\": \"\"}}, \"type\": \"scattermapbox\"}], \"scatterpolar\": [{\"marker\": {\"colorbar\": {\"outlinewidth\": 0, \"ticks\": \"\"}}, \"type\": \"scatterpolar\"}], \"scatterpolargl\": [{\"marker\": {\"colorbar\": {\"outlinewidth\": 0, \"ticks\": \"\"}}, \"type\": \"scatterpolargl\"}], \"scatterternary\": [{\"marker\": {\"colorbar\": {\"outlinewidth\": 0, \"ticks\": \"\"}}, \"type\": \"scatterternary\"}], \"surface\": [{\"colorbar\": {\"outlinewidth\": 0, \"ticks\": \"\"}, \"colorscale\": [[0.0, \"#0d0887\"], [0.1111111111111111, \"#46039f\"], [0.2222222222222222, \"#7201a8\"], [0.3333333333333333, \"#9c179e\"], [0.4444444444444444, \"#bd3786\"], [0.5555555555555556, \"#d8576b\"], [0.6666666666666666, \"#ed7953\"], [0.7777777777777778, \"#fb9f3a\"], [0.8888888888888888, \"#fdca26\"], [1.0, \"#f0f921\"]], \"type\": \"surface\"}], \"table\": [{\"cells\": {\"fill\": {\"color\": \"#EBF0F8\"}, \"line\": {\"color\": \"white\"}}, \"header\": {\"fill\": {\"color\": \"#C8D4E3\"}, \"line\": {\"color\": \"white\"}}, \"type\": \"table\"}]}, \"layout\": {\"annotationdefaults\": {\"arrowcolor\": \"#2a3f5f\", \"arrowhead\": 0, \"arrowwidth\": 1}, \"coloraxis\": {\"colorbar\": {\"outlinewidth\": 0, \"ticks\": \"\"}}, \"colorscale\": {\"diverging\": [[0, \"#8e0152\"], [0.1, \"#c51b7d\"], [0.2, \"#de77ae\"], [0.3, \"#f1b6da\"], [0.4, \"#fde0ef\"], [0.5, \"#f7f7f7\"], [0.6, \"#e6f5d0\"], [0.7, \"#b8e186\"], [0.8, \"#7fbc41\"], [0.9, \"#4d9221\"], [1, \"#276419\"]], \"sequential\": [[0.0, \"#0d0887\"], [0.1111111111111111, \"#46039f\"], [0.2222222222222222, \"#7201a8\"], [0.3333333333333333, \"#9c179e\"], [0.4444444444444444, \"#bd3786\"], [0.5555555555555556, \"#d8576b\"], [0.6666666666666666, \"#ed7953\"], [0.7777777777777778, \"#fb9f3a\"], [0.8888888888888888, \"#fdca26\"], [1.0, \"#f0f921\"]], \"sequentialminus\": [[0.0, \"#0d0887\"], [0.1111111111111111, \"#46039f\"], [0.2222222222222222, \"#7201a8\"], [0.3333333333333333, \"#9c179e\"], [0.4444444444444444, \"#bd3786\"], [0.5555555555555556, \"#d8576b\"], [0.6666666666666666, \"#ed7953\"], [0.7777777777777778, \"#fb9f3a\"], [0.8888888888888888, \"#fdca26\"], [1.0, \"#f0f921\"]]}, \"colorway\": [\"#636efa\", \"#EF553B\", \"#00cc96\", \"#ab63fa\", \"#FFA15A\", \"#19d3f3\", \"#FF6692\", \"#B6E880\", \"#FF97FF\", \"#FECB52\"], \"font\": {\"color\": \"#2a3f5f\"}, \"geo\": {\"bgcolor\": \"white\", \"lakecolor\": \"white\", \"landcolor\": \"#E5ECF6\", \"showlakes\": true, \"showland\": true, \"subunitcolor\": \"white\"}, \"hoverlabel\": {\"align\": \"left\"}, \"hovermode\": \"closest\", \"mapbox\": {\"style\": \"light\"}, \"paper_bgcolor\": \"white\", \"plot_bgcolor\": \"#E5ECF6\", \"polar\": {\"angularaxis\": {\"gridcolor\": \"white\", \"linecolor\": \"white\", \"ticks\": \"\"}, \"bgcolor\": \"#E5ECF6\", \"radialaxis\": {\"gridcolor\": \"white\", \"linecolor\": \"white\", \"ticks\": \"\"}}, \"scene\": {\"xaxis\": {\"backgroundcolor\": \"#E5ECF6\", \"gridcolor\": \"white\", \"gridwidth\": 2, \"linecolor\": \"white\", \"showbackground\": true, \"ticks\": \"\", \"zerolinecolor\": \"white\"}, \"yaxis\": {\"backgroundcolor\": \"#E5ECF6\", \"gridcolor\": \"white\", \"gridwidth\": 2, \"linecolor\": \"white\", \"showbackground\": true, \"ticks\": \"\", \"zerolinecolor\": \"white\"}, \"zaxis\": {\"backgroundcolor\": \"#E5ECF6\", \"gridcolor\": \"white\", \"gridwidth\": 2, \"linecolor\": \"white\", \"showbackground\": true, \"ticks\": \"\", \"zerolinecolor\": \"white\"}}, \"shapedefaults\": {\"line\": {\"color\": \"#2a3f5f\"}}, \"ternary\": {\"aaxis\": {\"gridcolor\": \"white\", \"linecolor\": \"white\", \"ticks\": \"\"}, \"baxis\": {\"gridcolor\": \"white\", \"linecolor\": \"white\", \"ticks\": \"\"}, \"bgcolor\": \"#E5ECF6\", \"caxis\": {\"gridcolor\": \"white\", \"linecolor\": \"white\", \"ticks\": \"\"}}, \"title\": {\"x\": 0.05}, \"xaxis\": {\"automargin\": true, \"gridcolor\": \"white\", \"linecolor\": \"white\", \"ticks\": \"\", \"title\": {\"standoff\": 15}, \"zerolinecolor\": \"white\", \"zerolinewidth\": 2}, \"yaxis\": {\"automargin\": true, \"gridcolor\": \"white\", \"linecolor\": \"white\", \"ticks\": \"\", \"title\": {\"standoff\": 15}, \"zerolinecolor\": \"white\", \"zerolinewidth\": 2}}}, \"width\": 800},                        {\"responsive\": true}                    ).then(function(){\n                            \nvar gd = document.getElementById('56b67c0f-cda5-4744-9db8-36c28c631eef');\nvar x = new MutationObserver(function (mutations, observer) {{\n        var display = window.getComputedStyle(gd).display;\n        if (!display || display === 'none') {{\n            console.log([gd, 'removed!']);\n            Plotly.purge(gd);\n            observer.disconnect();\n        }}\n}});\n\n// Listen for the removal of the full notebook cells\nvar notebookContainer = gd.closest('#notebook-container');\nif (notebookContainer) {{\n    x.observe(notebookContainer, {childList: true});\n}}\n\n// Listen for the clearing of the current output cell\nvar outputEl = gd.closest('.output');\nif (outputEl) {{\n    x.observe(outputEl, {childList: true});\n}}\n\n                        })                };                });            </script>        </div>"
     },
     "metadata": {},
     "output_type": "display_data"
    }
   ],
   "source": [
    "avg_time = [0,0,0,0]\n",
    "prob_wait = [0,0,0,0]\n",
    "avg_waiting_for = [0,0,0,0]\n",
    "avg_time_spent = [0,0,0,0]\n",
    "values = [[0,0,0,0],[0,0,0,0],[0,0,0,0],[0,0,0,0]]\n",
    "\n",
    "\n",
    "def do_stuff(event,idx):\n",
    "    devs = DEVS()\n",
    "    devs.events_queue.add_event(event)\n",
    "    while devs.events_queue.size > 0:\n",
    "        devs.process_next_event()\n",
    "    stats = devs.stats\n",
    "\n",
    "    av_time_in_queue = sum([x.waiting_time_in_queue for x in stats]) / len(stats)\n",
    "    values[idx][0] = values[idx][0] + av_time_in_queue\n",
    "    print('Average waiting time: {0:.2f}'.format(av_time_in_queue))\n",
    "\n",
    "    prob_to_wait = len([x for x in stats if x.waiting_time_in_queue > 0]) / len(stats)\n",
    "    values[idx][1] = values[idx][1] + prob_to_wait\n",
    "    print('Probability that a customer has to wait: {0:.2f}'.format(prob_to_wait))\n",
    "\n",
    "    avTimeBetwArr = sum([x.inter_arrival_time for x in stats])/(len(stats)-1)\n",
    "    print(\"Average time between arrivals: {0:.2f}\".format(avTimeBetwArr))\n",
    "\n",
    "    avServiceTime = sum([x.service_time for x in stats])/len(stats)\n",
    "    print(\"Average service time: {0:.2f}\".format(avServiceTime))\n",
    "\n",
    "    numOfCustWhoWait = len([x for x in stats if x.waiting_time_in_queue>0])\n",
    "    avTimeWhoWait = sum([x.waiting_time_in_queue for x in stats])/numOfCustWhoWait\n",
    "    values[idx][2] = values[idx][2] + avTimeWhoWait\n",
    "    print(\"Average waiting time for those who wait: {0:.2f}\".format(avTimeWhoWait))\n",
    "\n",
    "    avTimeInTheSystem1 = sum([x.time_in_system for x in stats])/len(stats)\n",
    "    values[idx][3] = values[idx][3] + avTimeInTheSystem1\n",
    "    print(\"Average time a customer spends in the system: {0:.2f}\\n\".format(avTimeInTheSystem1))\n",
    "\n",
    "def toFixed(numObj, digits=2):\n",
    "    return f\"{numObj:.{digits}f}\"\n",
    "\n",
    "names = [\"\"]\n",
    "fields = ['Average waiting time','Probability that a customer has to wait','Average waiting time for those who wait','Average time a customer spends in the system']\n",
    "for name, member in SYSTEM_TYPE.__members__.items():\n",
    "    print(member.value)\n",
    "    names.append(name)\n",
    "    print('\\n' + name + ': \\n')\n",
    "    # if name ==\"DYNAMIC_SERVERS\":\n",
    "    for x in range(3):\n",
    "         do_stuff(ArrivalEvent(10000, member),member.value)\n",
    "def dosmth(arr):\n",
    "    arre = [toFixed(n/3) for n in arr]\n",
    "    return arre\n",
    "\n",
    "values = [dosmth(n) for n in values]\n",
    "\n",
    "\n",
    "fig = go.Figure(data=[go.Table(header=dict(values=names),\n",
    "                 cells=dict(values=[fields, values[0],values[1],values[2],values[3]]))\n",
    "                     ])\n",
    "fig.update_layout(width=800, height=800)\n",
    "fig.show()"
   ],
   "metadata": {
    "collapsed": false,
    "pycharm": {
     "name": "#%%\n"
    }
   }
  }
 ],
 "metadata": {
  "kernelspec": {
   "display_name": "Python 3",
   "language": "python",
   "name": "python3"
  },
  "language_info": {
   "codemirror_mode": {
    "name": "ipython",
    "version": 2
   },
   "file_extension": ".py",
   "mimetype": "text/x-python",
   "name": "python",
   "nbconvert_exporter": "python",
   "pygments_lexer": "ipython2",
   "version": "2.7.6"
  }
 },
 "nbformat": 4,
 "nbformat_minor": 0
}